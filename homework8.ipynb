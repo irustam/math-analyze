{
 "cells": [
  {
   "cell_type": "code",
   "execution_count": 25,
   "metadata": {},
   "outputs": [
    {
     "name": "stdout",
     "output_type": "stream",
     "text": [
      "(1.0, 2.3898474773634925e+51)\n"
     ]
    }
   ],
   "source": [
    "from math import sin, cos\n",
    "from typing import Callable\n",
    "import unittest\n",
    "\n",
    "def newton(f: Callable[[float], float], \n",
    "           f_x_prime: Callable[[float], float],\n",
    "           f_y_prime: Callable[[float], float],\n",
    "           x0: float,\n",
    "           y0: float,\n",
    "           eps: float=1e-7, \n",
    "           kmax: int=1e3\n",
    "          ) -> float:\n",
    "    \n",
    "    x = x0\n",
    "    y = y0\n",
    "    x_prev = x0 + 2 * eps\n",
    "    y_prev = y0 + 2 * eps\n",
    "    i = 0\n",
    "    \n",
    "    while abs(x - x_prev) >= eps and abs(y - x_prev) >= eps and i < kmax:\n",
    "        x_prev = x\n",
    "        y_prev = y\n",
    "        \n",
    "        f_xy = f(x, y)\n",
    "        x = x - f_xy / f_x_prime(x, y)\n",
    "        y = y - f_xy / f_y_prime(x, y)\n",
    "        i += 1 \n",
    "\n",
    "    return x, y\n",
    "\n",
    "def f(x: float, y: float) -> float:\n",
    "    return 3*x**2-y**2+3*x*y**3+3*x**2*y**2+2*x-3*y-10-3*y**3-2*x**3*y\n",
    "\n",
    "def f_x_prime(x: float, y: float) -> float:\n",
    "    return 6*x+3*y**3+6*x*y**2-6*x**2*y+2\n",
    "\n",
    "def f_y_prime(x: float, y: float) -> float:\n",
    "    return -2*y+9*x*y**2+6*x**2*y-9*y**2-2*x**3-3\n",
    "\n",
    "x0 = 100000\n",
    "y0 = 400000\n",
    "\n",
    "print (newton(f, f_x_prime, f_y_prime, x0, y0))"
   ]
  },
  {
   "cell_type": "code",
   "execution_count": 26,
   "metadata": {},
   "outputs": [
    {
     "name": "stdout",
     "output_type": "stream",
     "text": [
      "1.0 3.6898317908654026e+34 1\n"
     ]
    }
   ],
   "source": [
    "###### import numpy as np\n",
    "from scipy.optimize import fsolve, broyden1\n",
    "import math\n",
    "\n",
    "def equations(p):\n",
    "    x, y = p\n",
    "    # Запись системы уравнения вида x+y=2, x-y=0\n",
    "    return (x**2-y**2+3*x*y**3-2*x**2*y**2+2*x-3*y-5, 3*y**3-2*x**2+2*x**3*y-5*x**2*y**2+5)\n",
    "\n",
    "# Численное решение нелинечной системы уравнений\n",
    "\n",
    "(x, y), info, ier, mesg =  fsolve(equations, (1, 2.3898474773634925e+51), full_output=True)\n",
    "print (x, y, ier)"
   ]
  },
  {
   "cell_type": "code",
   "execution_count": null,
   "metadata": {},
   "outputs": [],
   "source": []
  }
 ],
 "metadata": {
  "kernelspec": {
   "display_name": "Python 3",
   "language": "python",
   "name": "python3"
  },
  "language_info": {
   "codemirror_mode": {
    "name": "ipython",
    "version": 3
   },
   "file_extension": ".py",
   "mimetype": "text/x-python",
   "name": "python",
   "nbconvert_exporter": "python",
   "pygments_lexer": "ipython3",
   "version": "3.7.3"
  }
 },
 "nbformat": 4,
 "nbformat_minor": 2
}
